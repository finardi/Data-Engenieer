{
  "nbformat": 4,
  "nbformat_minor": 0,
  "metadata": {
    "colab": {
      "name": "CLustering: KMEANS with BERT.ipynb",
      "provenance": [],
      "machine_shape": "hm",
      "authorship_tag": "ABX9TyPyau9EhnlOIkThIZP+9F50",
      "include_colab_link": true
    },
    "kernelspec": {
      "name": "python3",
      "display_name": "Python 3"
    },
    "language_info": {
      "name": "python"
    },
    "accelerator": "GPU",
    "widgets": {
      "application/vnd.jupyter.widget-state+json": {
        "212c1ebfc9764d76b58dac79252050de": {
          "model_module": "@jupyter-widgets/controls",
          "model_name": "HBoxModel",
          "state": {
            "_view_name": "HBoxView",
            "_dom_classes": [],
            "_model_name": "HBoxModel",
            "_view_module": "@jupyter-widgets/controls",
            "_model_module_version": "1.5.0",
            "_view_count": null,
            "_view_module_version": "1.5.0",
            "box_style": "",
            "layout": "IPY_MODEL_23a76968fdd94dd9893cb206caf15119",
            "_model_module": "@jupyter-widgets/controls",
            "children": [
              "IPY_MODEL_f36e44fc0d274efeb8e5cbfe3ce7acff",
              "IPY_MODEL_7ba31650d8254f83af50aec326038ae1"
            ]
          }
        },
        "23a76968fdd94dd9893cb206caf15119": {
          "model_module": "@jupyter-widgets/base",
          "model_name": "LayoutModel",
          "state": {
            "_view_name": "LayoutView",
            "grid_template_rows": null,
            "right": null,
            "justify_content": null,
            "_view_module": "@jupyter-widgets/base",
            "overflow": null,
            "_model_module_version": "1.2.0",
            "_view_count": null,
            "flex_flow": null,
            "width": null,
            "min_width": null,
            "border": null,
            "align_items": null,
            "bottom": null,
            "_model_module": "@jupyter-widgets/base",
            "top": null,
            "grid_column": null,
            "overflow_y": null,
            "overflow_x": null,
            "grid_auto_flow": null,
            "grid_area": null,
            "grid_template_columns": null,
            "flex": null,
            "_model_name": "LayoutModel",
            "justify_items": null,
            "grid_row": null,
            "max_height": null,
            "align_content": null,
            "visibility": null,
            "align_self": null,
            "height": null,
            "min_height": null,
            "padding": null,
            "grid_auto_rows": null,
            "grid_gap": null,
            "max_width": null,
            "order": null,
            "_view_module_version": "1.2.0",
            "grid_template_areas": null,
            "object_position": null,
            "object_fit": null,
            "grid_auto_columns": null,
            "margin": null,
            "display": null,
            "left": null
          }
        },
        "f36e44fc0d274efeb8e5cbfe3ce7acff": {
          "model_module": "@jupyter-widgets/controls",
          "model_name": "FloatProgressModel",
          "state": {
            "_view_name": "ProgressView",
            "style": "IPY_MODEL_437780427786469b8f98cd26e8faa423",
            "_dom_classes": [],
            "description": "Downloading: 100%",
            "_model_name": "FloatProgressModel",
            "bar_style": "success",
            "max": 268101,
            "_view_module": "@jupyter-widgets/controls",
            "_model_module_version": "1.5.0",
            "value": 268101,
            "_view_count": null,
            "_view_module_version": "1.5.0",
            "orientation": "horizontal",
            "min": 0,
            "description_tooltip": null,
            "_model_module": "@jupyter-widgets/controls",
            "layout": "IPY_MODEL_08ecedb4a01d48268cdf985791bf8a56"
          }
        },
        "7ba31650d8254f83af50aec326038ae1": {
          "model_module": "@jupyter-widgets/controls",
          "model_name": "HTMLModel",
          "state": {
            "_view_name": "HTMLView",
            "style": "IPY_MODEL_a4a02863dcd049ab9cbec9d021706377",
            "_dom_classes": [],
            "description": "",
            "_model_name": "HTMLModel",
            "placeholder": "​",
            "_view_module": "@jupyter-widgets/controls",
            "_model_module_version": "1.5.0",
            "value": " 268k/268k [00:02&lt;00:00, 91.5kB/s]",
            "_view_count": null,
            "_view_module_version": "1.5.0",
            "description_tooltip": null,
            "_model_module": "@jupyter-widgets/controls",
            "layout": "IPY_MODEL_900138d3300a43efa8737f8bb6bb9957"
          }
        },
        "437780427786469b8f98cd26e8faa423": {
          "model_module": "@jupyter-widgets/controls",
          "model_name": "ProgressStyleModel",
          "state": {
            "_view_name": "StyleView",
            "_model_name": "ProgressStyleModel",
            "description_width": "initial",
            "_view_module": "@jupyter-widgets/base",
            "_model_module_version": "1.5.0",
            "_view_count": null,
            "_view_module_version": "1.2.0",
            "bar_color": null,
            "_model_module": "@jupyter-widgets/controls"
          }
        },
        "08ecedb4a01d48268cdf985791bf8a56": {
          "model_module": "@jupyter-widgets/base",
          "model_name": "LayoutModel",
          "state": {
            "_view_name": "LayoutView",
            "grid_template_rows": null,
            "right": null,
            "justify_content": null,
            "_view_module": "@jupyter-widgets/base",
            "overflow": null,
            "_model_module_version": "1.2.0",
            "_view_count": null,
            "flex_flow": null,
            "width": null,
            "min_width": null,
            "border": null,
            "align_items": null,
            "bottom": null,
            "_model_module": "@jupyter-widgets/base",
            "top": null,
            "grid_column": null,
            "overflow_y": null,
            "overflow_x": null,
            "grid_auto_flow": null,
            "grid_area": null,
            "grid_template_columns": null,
            "flex": null,
            "_model_name": "LayoutModel",
            "justify_items": null,
            "grid_row": null,
            "max_height": null,
            "align_content": null,
            "visibility": null,
            "align_self": null,
            "height": null,
            "min_height": null,
            "padding": null,
            "grid_auto_rows": null,
            "grid_gap": null,
            "max_width": null,
            "order": null,
            "_view_module_version": "1.2.0",
            "grid_template_areas": null,
            "object_position": null,
            "object_fit": null,
            "grid_auto_columns": null,
            "margin": null,
            "display": null,
            "left": null
          }
        },
        "a4a02863dcd049ab9cbec9d021706377": {
          "model_module": "@jupyter-widgets/controls",
          "model_name": "DescriptionStyleModel",
          "state": {
            "_view_name": "StyleView",
            "_model_name": "DescriptionStyleModel",
            "description_width": "",
            "_view_module": "@jupyter-widgets/base",
            "_model_module_version": "1.5.0",
            "_view_count": null,
            "_view_module_version": "1.2.0",
            "_model_module": "@jupyter-widgets/controls"
          }
        },
        "900138d3300a43efa8737f8bb6bb9957": {
          "model_module": "@jupyter-widgets/base",
          "model_name": "LayoutModel",
          "state": {
            "_view_name": "LayoutView",
            "grid_template_rows": null,
            "right": null,
            "justify_content": null,
            "_view_module": "@jupyter-widgets/base",
            "overflow": null,
            "_model_module_version": "1.2.0",
            "_view_count": null,
            "flex_flow": null,
            "width": null,
            "min_width": null,
            "border": null,
            "align_items": null,
            "bottom": null,
            "_model_module": "@jupyter-widgets/base",
            "top": null,
            "grid_column": null,
            "overflow_y": null,
            "overflow_x": null,
            "grid_auto_flow": null,
            "grid_area": null,
            "grid_template_columns": null,
            "flex": null,
            "_model_name": "LayoutModel",
            "justify_items": null,
            "grid_row": null,
            "max_height": null,
            "align_content": null,
            "visibility": null,
            "align_self": null,
            "height": null,
            "min_height": null,
            "padding": null,
            "grid_auto_rows": null,
            "grid_gap": null,
            "max_width": null,
            "order": null,
            "_view_module_version": "1.2.0",
            "grid_template_areas": null,
            "object_position": null,
            "object_fit": null,
            "grid_auto_columns": null,
            "margin": null,
            "display": null,
            "left": null
          }
        },
        "cfe4bd89a77b4841870728fa79552374": {
          "model_module": "@jupyter-widgets/controls",
          "model_name": "HBoxModel",
          "state": {
            "_view_name": "HBoxView",
            "_dom_classes": [],
            "_model_name": "HBoxModel",
            "_view_module": "@jupyter-widgets/controls",
            "_model_module_version": "1.5.0",
            "_view_count": null,
            "_view_module_version": "1.5.0",
            "box_style": "",
            "layout": "IPY_MODEL_7247f297e69a4ce5a4d3ac3ac1705d21",
            "_model_module": "@jupyter-widgets/controls",
            "children": [
              "IPY_MODEL_d773bb8e0b7644178ec433f6a7e9d3ef",
              "IPY_MODEL_482c3af7c0214701ac42cee397eb61aa"
            ]
          }
        },
        "7247f297e69a4ce5a4d3ac3ac1705d21": {
          "model_module": "@jupyter-widgets/base",
          "model_name": "LayoutModel",
          "state": {
            "_view_name": "LayoutView",
            "grid_template_rows": null,
            "right": null,
            "justify_content": null,
            "_view_module": "@jupyter-widgets/base",
            "overflow": null,
            "_model_module_version": "1.2.0",
            "_view_count": null,
            "flex_flow": null,
            "width": null,
            "min_width": null,
            "border": null,
            "align_items": null,
            "bottom": null,
            "_model_module": "@jupyter-widgets/base",
            "top": null,
            "grid_column": null,
            "overflow_y": null,
            "overflow_x": null,
            "grid_auto_flow": null,
            "grid_area": null,
            "grid_template_columns": null,
            "flex": null,
            "_model_name": "LayoutModel",
            "justify_items": null,
            "grid_row": null,
            "max_height": null,
            "align_content": null,
            "visibility": null,
            "align_self": null,
            "height": null,
            "min_height": null,
            "padding": null,
            "grid_auto_rows": null,
            "grid_gap": null,
            "max_width": null,
            "order": null,
            "_view_module_version": "1.2.0",
            "grid_template_areas": null,
            "object_position": null,
            "object_fit": null,
            "grid_auto_columns": null,
            "margin": null,
            "display": null,
            "left": null
          }
        },
        "d773bb8e0b7644178ec433f6a7e9d3ef": {
          "model_module": "@jupyter-widgets/controls",
          "model_name": "FloatProgressModel",
          "state": {
            "_view_name": "ProgressView",
            "style": "IPY_MODEL_cdb74ac20d5f41628e8f1f4147ad1766",
            "_dom_classes": [],
            "description": "Downloading: 100%",
            "_model_name": "FloatProgressModel",
            "bar_style": "success",
            "max": 288,
            "_view_module": "@jupyter-widgets/controls",
            "_model_module_version": "1.5.0",
            "value": 288,
            "_view_count": null,
            "_view_module_version": "1.5.0",
            "orientation": "horizontal",
            "min": 0,
            "description_tooltip": null,
            "_model_module": "@jupyter-widgets/controls",
            "layout": "IPY_MODEL_9d5203fd9af24954bf83a90f35589096"
          }
        },
        "482c3af7c0214701ac42cee397eb61aa": {
          "model_module": "@jupyter-widgets/controls",
          "model_name": "HTMLModel",
          "state": {
            "_view_name": "HTMLView",
            "style": "IPY_MODEL_b49ba687e126419ebfc719b8e25265d8",
            "_dom_classes": [],
            "description": "",
            "_model_name": "HTMLModel",
            "placeholder": "​",
            "_view_module": "@jupyter-widgets/controls",
            "_model_module_version": "1.5.0",
            "value": " 288/288 [00:00&lt;00:00, 461B/s]",
            "_view_count": null,
            "_view_module_version": "1.5.0",
            "description_tooltip": null,
            "_model_module": "@jupyter-widgets/controls",
            "layout": "IPY_MODEL_cdfc4d328a1f44a1b531ef9ca781735e"
          }
        },
        "cdb74ac20d5f41628e8f1f4147ad1766": {
          "model_module": "@jupyter-widgets/controls",
          "model_name": "ProgressStyleModel",
          "state": {
            "_view_name": "StyleView",
            "_model_name": "ProgressStyleModel",
            "description_width": "initial",
            "_view_module": "@jupyter-widgets/base",
            "_model_module_version": "1.5.0",
            "_view_count": null,
            "_view_module_version": "1.2.0",
            "bar_color": null,
            "_model_module": "@jupyter-widgets/controls"
          }
        },
        "9d5203fd9af24954bf83a90f35589096": {
          "model_module": "@jupyter-widgets/base",
          "model_name": "LayoutModel",
          "state": {
            "_view_name": "LayoutView",
            "grid_template_rows": null,
            "right": null,
            "justify_content": null,
            "_view_module": "@jupyter-widgets/base",
            "overflow": null,
            "_model_module_version": "1.2.0",
            "_view_count": null,
            "flex_flow": null,
            "width": null,
            "min_width": null,
            "border": null,
            "align_items": null,
            "bottom": null,
            "_model_module": "@jupyter-widgets/base",
            "top": null,
            "grid_column": null,
            "overflow_y": null,
            "overflow_x": null,
            "grid_auto_flow": null,
            "grid_area": null,
            "grid_template_columns": null,
            "flex": null,
            "_model_name": "LayoutModel",
            "justify_items": null,
            "grid_row": null,
            "max_height": null,
            "align_content": null,
            "visibility": null,
            "align_self": null,
            "height": null,
            "min_height": null,
            "padding": null,
            "grid_auto_rows": null,
            "grid_gap": null,
            "max_width": null,
            "order": null,
            "_view_module_version": "1.2.0",
            "grid_template_areas": null,
            "object_position": null,
            "object_fit": null,
            "grid_auto_columns": null,
            "margin": null,
            "display": null,
            "left": null
          }
        },
        "b49ba687e126419ebfc719b8e25265d8": {
          "model_module": "@jupyter-widgets/controls",
          "model_name": "DescriptionStyleModel",
          "state": {
            "_view_name": "StyleView",
            "_model_name": "DescriptionStyleModel",
            "description_width": "",
            "_view_module": "@jupyter-widgets/base",
            "_model_module_version": "1.5.0",
            "_view_count": null,
            "_view_module_version": "1.2.0",
            "_model_module": "@jupyter-widgets/controls"
          }
        },
        "cdfc4d328a1f44a1b531ef9ca781735e": {
          "model_module": "@jupyter-widgets/base",
          "model_name": "LayoutModel",
          "state": {
            "_view_name": "LayoutView",
            "grid_template_rows": null,
            "right": null,
            "justify_content": null,
            "_view_module": "@jupyter-widgets/base",
            "overflow": null,
            "_model_module_version": "1.2.0",
            "_view_count": null,
            "flex_flow": null,
            "width": null,
            "min_width": null,
            "border": null,
            "align_items": null,
            "bottom": null,
            "_model_module": "@jupyter-widgets/base",
            "top": null,
            "grid_column": null,
            "overflow_y": null,
            "overflow_x": null,
            "grid_auto_flow": null,
            "grid_area": null,
            "grid_template_columns": null,
            "flex": null,
            "_model_name": "LayoutModel",
            "justify_items": null,
            "grid_row": null,
            "max_height": null,
            "align_content": null,
            "visibility": null,
            "align_self": null,
            "height": null,
            "min_height": null,
            "padding": null,
            "grid_auto_rows": null,
            "grid_gap": null,
            "max_width": null,
            "order": null,
            "_view_module_version": "1.2.0",
            "grid_template_areas": null,
            "object_position": null,
            "object_fit": null,
            "grid_auto_columns": null,
            "margin": null,
            "display": null,
            "left": null
          }
        },
        "99ac3cbbef814225a6e652010335404c": {
          "model_module": "@jupyter-widgets/controls",
          "model_name": "HBoxModel",
          "state": {
            "_view_name": "HBoxView",
            "_dom_classes": [],
            "_model_name": "HBoxModel",
            "_view_module": "@jupyter-widgets/controls",
            "_model_module_version": "1.5.0",
            "_view_count": null,
            "_view_module_version": "1.5.0",
            "box_style": "",
            "layout": "IPY_MODEL_ab5000bfaadf4730a7f64679fe318a85",
            "_model_module": "@jupyter-widgets/controls",
            "children": [
              "IPY_MODEL_9fc7dfcad9d44cc4a5e5b13e39270344",
              "IPY_MODEL_fc3ebfbad7dd46c18f67c5c5e69286fe"
            ]
          }
        },
        "ab5000bfaadf4730a7f64679fe318a85": {
          "model_module": "@jupyter-widgets/base",
          "model_name": "LayoutModel",
          "state": {
            "_view_name": "LayoutView",
            "grid_template_rows": null,
            "right": null,
            "justify_content": null,
            "_view_module": "@jupyter-widgets/base",
            "overflow": null,
            "_model_module_version": "1.2.0",
            "_view_count": null,
            "flex_flow": null,
            "width": null,
            "min_width": null,
            "border": null,
            "align_items": null,
            "bottom": null,
            "_model_module": "@jupyter-widgets/base",
            "top": null,
            "grid_column": null,
            "overflow_y": null,
            "overflow_x": null,
            "grid_auto_flow": null,
            "grid_area": null,
            "grid_template_columns": null,
            "flex": null,
            "_model_name": "LayoutModel",
            "justify_items": null,
            "grid_row": null,
            "max_height": null,
            "align_content": null,
            "visibility": null,
            "align_self": null,
            "height": null,
            "min_height": null,
            "padding": null,
            "grid_auto_rows": null,
            "grid_gap": null,
            "max_width": null,
            "order": null,
            "_view_module_version": "1.2.0",
            "grid_template_areas": null,
            "object_position": null,
            "object_fit": null,
            "grid_auto_columns": null,
            "margin": null,
            "display": null,
            "left": null
          }
        },
        "9fc7dfcad9d44cc4a5e5b13e39270344": {
          "model_module": "@jupyter-widgets/controls",
          "model_name": "FloatProgressModel",
          "state": {
            "_view_name": "ProgressView",
            "style": "IPY_MODEL_fbf6f7629ba347a5abdf86a3ae98faa8",
            "_dom_classes": [],
            "description": "Downloading: 100%",
            "_model_name": "FloatProgressModel",
            "bar_style": "success",
            "max": 451518251,
            "_view_module": "@jupyter-widgets/controls",
            "_model_module_version": "1.5.0",
            "value": 451518251,
            "_view_count": null,
            "_view_module_version": "1.5.0",
            "orientation": "horizontal",
            "min": 0,
            "description_tooltip": null,
            "_model_module": "@jupyter-widgets/controls",
            "layout": "IPY_MODEL_f90eb51c838f429483cf8a5ecc3c37c6"
          }
        },
        "fc3ebfbad7dd46c18f67c5c5e69286fe": {
          "model_module": "@jupyter-widgets/controls",
          "model_name": "HTMLModel",
          "state": {
            "_view_name": "HTMLView",
            "style": "IPY_MODEL_e7f78675e49f4457b50a33ce69d31906",
            "_dom_classes": [],
            "description": "",
            "_model_name": "HTMLModel",
            "placeholder": "​",
            "_view_module": "@jupyter-widgets/controls",
            "_model_module_version": "1.5.0",
            "value": " 452M/452M [00:26&lt;00:00, 17.0MB/s]",
            "_view_count": null,
            "_view_module_version": "1.5.0",
            "description_tooltip": null,
            "_model_module": "@jupyter-widgets/controls",
            "layout": "IPY_MODEL_1073e95b1c5e4b849886b2b65d8346a0"
          }
        },
        "fbf6f7629ba347a5abdf86a3ae98faa8": {
          "model_module": "@jupyter-widgets/controls",
          "model_name": "ProgressStyleModel",
          "state": {
            "_view_name": "StyleView",
            "_model_name": "ProgressStyleModel",
            "description_width": "initial",
            "_view_module": "@jupyter-widgets/base",
            "_model_module_version": "1.5.0",
            "_view_count": null,
            "_view_module_version": "1.2.0",
            "bar_color": null,
            "_model_module": "@jupyter-widgets/controls"
          }
        },
        "f90eb51c838f429483cf8a5ecc3c37c6": {
          "model_module": "@jupyter-widgets/base",
          "model_name": "LayoutModel",
          "state": {
            "_view_name": "LayoutView",
            "grid_template_rows": null,
            "right": null,
            "justify_content": null,
            "_view_module": "@jupyter-widgets/base",
            "overflow": null,
            "_model_module_version": "1.2.0",
            "_view_count": null,
            "flex_flow": null,
            "width": null,
            "min_width": null,
            "border": null,
            "align_items": null,
            "bottom": null,
            "_model_module": "@jupyter-widgets/base",
            "top": null,
            "grid_column": null,
            "overflow_y": null,
            "overflow_x": null,
            "grid_auto_flow": null,
            "grid_area": null,
            "grid_template_columns": null,
            "flex": null,
            "_model_name": "LayoutModel",
            "justify_items": null,
            "grid_row": null,
            "max_height": null,
            "align_content": null,
            "visibility": null,
            "align_self": null,
            "height": null,
            "min_height": null,
            "padding": null,
            "grid_auto_rows": null,
            "grid_gap": null,
            "max_width": null,
            "order": null,
            "_view_module_version": "1.2.0",
            "grid_template_areas": null,
            "object_position": null,
            "object_fit": null,
            "grid_auto_columns": null,
            "margin": null,
            "display": null,
            "left": null
          }
        },
        "e7f78675e49f4457b50a33ce69d31906": {
          "model_module": "@jupyter-widgets/controls",
          "model_name": "DescriptionStyleModel",
          "state": {
            "_view_name": "StyleView",
            "_model_name": "DescriptionStyleModel",
            "description_width": "",
            "_view_module": "@jupyter-widgets/base",
            "_model_module_version": "1.5.0",
            "_view_count": null,
            "_view_module_version": "1.2.0",
            "_model_module": "@jupyter-widgets/controls"
          }
        },
        "1073e95b1c5e4b849886b2b65d8346a0": {
          "model_module": "@jupyter-widgets/base",
          "model_name": "LayoutModel",
          "state": {
            "_view_name": "LayoutView",
            "grid_template_rows": null,
            "right": null,
            "justify_content": null,
            "_view_module": "@jupyter-widgets/base",
            "overflow": null,
            "_model_module_version": "1.2.0",
            "_view_count": null,
            "flex_flow": null,
            "width": null,
            "min_width": null,
            "border": null,
            "align_items": null,
            "bottom": null,
            "_model_module": "@jupyter-widgets/base",
            "top": null,
            "grid_column": null,
            "overflow_y": null,
            "overflow_x": null,
            "grid_auto_flow": null,
            "grid_area": null,
            "grid_template_columns": null,
            "flex": null,
            "_model_name": "LayoutModel",
            "justify_items": null,
            "grid_row": null,
            "max_height": null,
            "align_content": null,
            "visibility": null,
            "align_self": null,
            "height": null,
            "min_height": null,
            "padding": null,
            "grid_auto_rows": null,
            "grid_gap": null,
            "max_width": null,
            "order": null,
            "_view_module_version": "1.2.0",
            "grid_template_areas": null,
            "object_position": null,
            "object_fit": null,
            "grid_auto_columns": null,
            "margin": null,
            "display": null,
            "left": null
          }
        }
      }
    }
  },
  "cells": [
    {
      "cell_type": "markdown",
      "metadata": {
        "id": "view-in-github",
        "colab_type": "text"
      },
      "source": [
        "<a href=\"https://colab.research.google.com/github/finardi/Data-Engenieer/blob/main/Clustering%20AGGLOMERATIVE%20with%20BERT.ipynb\" target=\"_parent\"><img src=\"https://colab.research.google.com/assets/colab-badge.svg\" alt=\"Open In Colab\"/></a>"
      ]
    },
    {
      "cell_type": "code",
      "metadata": {
        "colab": {
          "base_uri": "https://localhost:8080/"
        },
        "id": "Nrg4jo90yPw9",
        "outputId": "bcf1f359-582a-4457-8fcd-bed42a752233"
      },
      "source": [
        "! pip install -q transformers"
      ],
      "execution_count": 1,
      "outputs": [
        {
          "output_type": "stream",
          "text": [
            "\u001b[K     |████████████████████████████████| 2.2MB 5.9MB/s \n",
            "\u001b[K     |████████████████████████████████| 870kB 25.6MB/s \n",
            "\u001b[K     |████████████████████████████████| 3.3MB 53.6MB/s \n",
            "\u001b[?25h  Building wheel for sacremoses (setup.py) ... \u001b[?25l\u001b[?25hdone\n"
          ],
          "name": "stdout"
        }
      ]
    },
    {
      "cell_type": "code",
      "metadata": {
        "id": "qf4Z9r0j1izT"
      },
      "source": [
        "from transformers import BertModel, BertTokenizer\n",
        "\n",
        "from sklearn.cluster import KMeans\n",
        "import torch\n",
        "import pandas as pd"
      ],
      "execution_count": 2,
      "outputs": []
    },
    {
      "cell_type": "code",
      "metadata": {
        "id": "3IZwejRHzy1q"
      },
      "source": [
        "text_list = [\n",
        "        'arroz com feijão e batata frita|1001',\n",
        "        'arroz salada e mandioca|1010',\n",
        "        'arroz com feijão e abobrinha|1101',\n",
        "        'arroz com feijão batata frit|1001',\n",
        "        'feijão arroz e cenoura|1011',\n",
        "        'beterraba, chuchu e arroz com feijão|1111',\n",
        "        'arroz com milho e feijão com couve|2001',\n",
        "        'batata frita com legumes e soja|2010',\n",
        "        'arroz com bata frita|2010',\n",
        "        'madioquinha com sopa de feijão|2010',\n",
        "        'arroz feijo e batata fita|1001',\n",
        "        'mesa, cadeira e escrivaninha|2711',\n",
        "        'cadeira, mesa e escrivaninha|2711',\n",
        "        'escrivaninha, mesa e cadeira|2711',\n",
        "        'geladeira e fogão|1711',\n",
        "        'microondas e geraleira|1711',\n",
        "        'geladeira e mesa azul|1711',\n",
        "        'roupeiro, criado-mudo e cama|2804',\n",
        "        'criado-mudo e cama|2804',\n",
        "        'roupeiro e criado-mudo|2804',\n",
        "        'cama e roupeiro|2804',\n",
        "        'microondas e cama|2805',\n",
        "        'mochila e roupeiro|2805',\n",
        "        'ps1, ps2, ps3, ps4 e ps5|1311',\n",
        "        'n64, snes, ps3, ps4 e ps5|1211',\n",
        "        'ps1, ps2, n64, ps4 e ps5|1341',\n",
        "        'ps5, ps4, ps3, ps2 e ps1|1311',\n",
        "        'ps1, n64, snes, switch|2311',\n",
        "        'ps6, ps7, ps8, ps9 e ps10|3211',\n",
        "        'ps10, ps2, ps3, ps4 e ps5|3211',\n",
        "        'mega-drive, nes, snes|1301',\n",
        "        'mega drive, n64, snes|1301',\n",
        "        'megadrive, nes, n64|1301',\n",
        "        'mega-drive, snes, nes|1311',\n",
        "        'mega drive, nes, n64|1311',\n",
        "        'tom, planck, ozzy, mel, nina, pingado e gisele|0000',\n",
        "        'tom, planck, ozzy, mel, nina, pingado gisele|0000',\n",
        "        'paulo, tom, planck, ozzy, mel, nina, pingado e gisele|0001',\n",
        "        'paulo, eli, tom, planck, ozzy, mel, nina, pingado e gisele|0001',\n",
        "        'jan, paulo, eli, tom, planck, ozzy, mel, nina, pingado e gisele|0001',\n",
        "]\n",
        "\n",
        "mydict = {}\n",
        "for i, item in enumerate(text_list):\n",
        "    mydict[i] = item.split('|')[0], item.split('|')[1]\n",
        "\n",
        "df = pd.DataFrame(mydict).T\n",
        "df = df.rename(columns={0:'text', 1:'doc'})"
      ],
      "execution_count": 3,
      "outputs": []
    },
    {
      "cell_type": "markdown",
      "metadata": {
        "id": "Ju6uKhE46brf"
      },
      "source": [
        "# BERTaú - Embeddings"
      ]
    },
    {
      "cell_type": "code",
      "metadata": {
        "colab": {
          "base_uri": "https://localhost:8080/",
          "height": 199,
          "referenced_widgets": [
            "212c1ebfc9764d76b58dac79252050de",
            "23a76968fdd94dd9893cb206caf15119",
            "f36e44fc0d274efeb8e5cbfe3ce7acff",
            "7ba31650d8254f83af50aec326038ae1",
            "437780427786469b8f98cd26e8faa423",
            "08ecedb4a01d48268cdf985791bf8a56",
            "a4a02863dcd049ab9cbec9d021706377",
            "900138d3300a43efa8737f8bb6bb9957",
            "cfe4bd89a77b4841870728fa79552374",
            "7247f297e69a4ce5a4d3ac3ac1705d21",
            "d773bb8e0b7644178ec433f6a7e9d3ef",
            "482c3af7c0214701ac42cee397eb61aa",
            "cdb74ac20d5f41628e8f1f4147ad1766",
            "9d5203fd9af24954bf83a90f35589096",
            "b49ba687e126419ebfc719b8e25265d8",
            "cdfc4d328a1f44a1b531ef9ca781735e",
            "99ac3cbbef814225a6e652010335404c",
            "ab5000bfaadf4730a7f64679fe318a85",
            "9fc7dfcad9d44cc4a5e5b13e39270344",
            "fc3ebfbad7dd46c18f67c5c5e69286fe",
            "fbf6f7629ba347a5abdf86a3ae98faa8",
            "f90eb51c838f429483cf8a5ecc3c37c6",
            "e7f78675e49f4457b50a33ce69d31906",
            "1073e95b1c5e4b849886b2b65d8346a0"
          ]
        },
        "id": "g9KPquBL55vx",
        "outputId": "fc98ee5e-bcfa-45e8-987f-c60e55370d43"
      },
      "source": [
        "%%time\n",
        "\n",
        "def get_embs(text_list:[], path_model:str):\n",
        "    tokenizer = BertTokenizer.from_pretrained(path_model)\n",
        "    model = BertModel.from_pretrained(path_model)\n",
        "    hidden_size = model.config.hidden_size\n",
        "    embs = torch.zeros(len(df)*hidden_size).reshape(len(df), hidden_size)\n",
        "\n",
        "    for i, text in enumerate(text_list):\n",
        "        tokens = tokenizer(text, return_tensors='pt')\n",
        "        outs = model(**tokens, return_dict=True)\n",
        "        last_hidden_state = outs['last_hidden_state']\n",
        "        # cls = last_hidden_state[:,0, :].squeeze(0).detach().numpy()\n",
        "        \n",
        "        # without CLS and SEP\n",
        "        embs_mean = torch.einsum(\"ijk -> k\", last_hidden_state[:,1:-1,])#.detach().numpy()\n",
        "        embs[i] = embs_mean\n",
        "\n",
        "    return embs\n",
        "# --------------------------------------------------\n",
        "path_model = 'Itau-Unibanco/BERTau'\n",
        "embeddings = get_embs(df.text.to_list(), path_model)"
      ],
      "execution_count": 4,
      "outputs": [
        {
          "output_type": "display_data",
          "data": {
            "application/vnd.jupyter.widget-view+json": {
              "model_id": "212c1ebfc9764d76b58dac79252050de",
              "version_minor": 0,
              "version_major": 2
            },
            "text/plain": [
              "HBox(children=(FloatProgress(value=0.0, description='Downloading', max=268101.0, style=ProgressStyle(descripti…"
            ]
          },
          "metadata": {
            "tags": []
          }
        },
        {
          "output_type": "stream",
          "text": [
            "\n"
          ],
          "name": "stdout"
        },
        {
          "output_type": "display_data",
          "data": {
            "application/vnd.jupyter.widget-view+json": {
              "model_id": "cfe4bd89a77b4841870728fa79552374",
              "version_minor": 0,
              "version_major": 2
            },
            "text/plain": [
              "HBox(children=(FloatProgress(value=0.0, description='Downloading', max=288.0, style=ProgressStyle(description_…"
            ]
          },
          "metadata": {
            "tags": []
          }
        },
        {
          "output_type": "stream",
          "text": [
            "\n"
          ],
          "name": "stdout"
        },
        {
          "output_type": "display_data",
          "data": {
            "application/vnd.jupyter.widget-view+json": {
              "model_id": "99ac3cbbef814225a6e652010335404c",
              "version_minor": 0,
              "version_major": 2
            },
            "text/plain": [
              "HBox(children=(FloatProgress(value=0.0, description='Downloading', max=451518251.0, style=ProgressStyle(descri…"
            ]
          },
          "metadata": {
            "tags": []
          }
        },
        {
          "output_type": "stream",
          "text": [
            "\n",
            "CPU times: user 12.9 s, sys: 1.42 s, total: 14.4 s\n",
            "Wall time: 38.1 s\n"
          ],
          "name": "stdout"
        }
      ]
    },
    {
      "cell_type": "markdown",
      "metadata": {
        "id": "TTeNI-0w7KEs"
      },
      "source": [
        "# K-Means"
      ]
    },
    {
      "cell_type": "code",
      "metadata": {
        "colab": {
          "base_uri": "https://localhost:8080/"
        },
        "id": "q02fEH3A4XeH",
        "outputId": "e8ccd84d-49cd-4361-8839-7b620784ef9b"
      },
      "source": [
        "# Perform kmean clustering\n",
        "num_clusters = 8\n",
        "clustering_model = KMeans(n_clusters=num_clusters)\n",
        "clustering_model.fit(embeddings.detach().numpy())\n",
        "cluster_assignment = clustering_model.labels_\n",
        "\n",
        "clustered_sentences = [[] for i in range(num_clusters)]\n",
        "for sentence_id, cluster_id in enumerate(cluster_assignment):\n",
        "    clustered_sentences[cluster_id].append(df.text.to_list()[sentence_id])\n",
        "\n",
        "for i, cluster in enumerate(clustered_sentences):\n",
        "    print(\"Cluster \", i+1)\n",
        "    print(cluster)\n",
        "    print(\"\")"
      ],
      "execution_count": 5,
      "outputs": [
        {
          "output_type": "stream",
          "text": [
            "Cluster  1\n",
            "['arroz salada e mandioca', 'mesa, cadeira e escrivaninha', 'cadeira, mesa e escrivaninha', 'escrivaninha, mesa e cadeira', 'roupeiro, criado-mudo e cama', 'roupeiro e criado-mudo']\n",
            "\n",
            "Cluster  2\n",
            "['tom, planck, ozzy, mel, nina, pingado e gisele', 'tom, planck, ozzy, mel, nina, pingado gisele', 'paulo, tom, planck, ozzy, mel, nina, pingado e gisele']\n",
            "\n",
            "Cluster  3\n",
            "['ps1, ps2, ps3, ps4 e ps5', 'n64, snes, ps3, ps4 e ps5', 'ps1, ps2, n64, ps4 e ps5', 'ps5, ps4, ps3, ps2 e ps1', 'ps6, ps7, ps8, ps9 e ps10', 'ps10, ps2, ps3, ps4 e ps5']\n",
            "\n",
            "Cluster  4\n",
            "['feijão arroz e cenoura', 'arroz com bata frita', 'geladeira e fogão', 'microondas e geraleira', 'geladeira e mesa azul', 'criado-mudo e cama', 'cama e roupeiro', 'microondas e cama', 'mochila e roupeiro']\n",
            "\n",
            "Cluster  5\n",
            "['paulo, eli, tom, planck, ozzy, mel, nina, pingado e gisele', 'jan, paulo, eli, tom, planck, ozzy, mel, nina, pingado e gisele']\n",
            "\n",
            "Cluster  6\n",
            "['ps1, n64, snes, switch', 'mega-drive, nes, snes', 'mega drive, n64, snes', 'megadrive, nes, n64', 'mega-drive, snes, nes', 'mega drive, nes, n64']\n",
            "\n",
            "Cluster  7\n",
            "['arroz com feijão e batata frita', 'arroz com feijão e abobrinha', 'arroz com feijão batata frit', 'arroz com milho e feijão com couve', 'batata frita com legumes e soja', 'madioquinha com sopa de feijão', 'arroz feijo e batata fita']\n",
            "\n",
            "Cluster  8\n",
            "['beterraba, chuchu e arroz com feijão']\n",
            "\n"
          ],
          "name": "stdout"
        }
      ]
    },
    {
      "cell_type": "markdown",
      "metadata": {
        "id": "ZkqolBdk2kNR"
      },
      "source": [
        "# Agglomerative"
      ]
    },
    {
      "cell_type": "code",
      "metadata": {
        "id": "fyQKqy7P7RR6"
      },
      "source": [
        "from sklearn.cluster import AgglomerativeClustering\n",
        "import numpy as np"
      ],
      "execution_count": 6,
      "outputs": []
    },
    {
      "cell_type": "code",
      "metadata": {
        "colab": {
          "base_uri": "https://localhost:8080/"
        },
        "id": "eu1rcdlL7VDd",
        "outputId": "c978dd68-fd32-4fed-ab0e-8ef85b30a348"
      },
      "source": [
        "# Normalize the embeddings to unit length\n",
        "embeddings_ = embeddings.detach().numpy() /  np.linalg.norm(embeddings.detach().numpy(), axis=1, keepdims=True)\n",
        "\n",
        "# Perform kmean clustering\n",
        "\n",
        "#, affinity='cosine', linkage='average', distance_threshold=0.4)\n",
        "clustering_model = AgglomerativeClustering(n_clusters=None, distance_threshold=.8) \n",
        "clustering_model.fit(embeddings_)\n",
        "cluster_assignment = clustering_model.labels_\n",
        "\n",
        "clustered_sentences = {}\n",
        "for sentence_id, cluster_id in enumerate(cluster_assignment):\n",
        "    if cluster_id not in clustered_sentences:\n",
        "        clustered_sentences[cluster_id] = []\n",
        "\n",
        "    clustered_sentences[cluster_id].append(df.text.to_list()[sentence_id])\n",
        "\n",
        "for i, cluster in clustered_sentences.items():\n",
        "    print(\"Cluster \", i+1)\n",
        "    print(cluster)\n",
        "    print(\"\")"
      ],
      "execution_count": 14,
      "outputs": [
        {
          "output_type": "stream",
          "text": [
            "Cluster  3\n",
            "['arroz com feijão e batata frita', 'arroz com feijão e abobrinha', 'arroz com feijão batata frit', 'feijão arroz e cenoura', 'beterraba, chuchu e arroz com feijão', 'arroz com milho e feijão com couve', 'batata frita com legumes e soja', 'arroz com bata frita', 'madioquinha com sopa de feijão', 'arroz feijo e batata fita']\n",
            "\n",
            "Cluster  2\n",
            "['arroz salada e mandioca', 'mesa, cadeira e escrivaninha', 'cadeira, mesa e escrivaninha', 'escrivaninha, mesa e cadeira']\n",
            "\n",
            "Cluster  4\n",
            "['geladeira e fogão', 'geladeira e mesa azul', 'microondas e cama']\n",
            "\n",
            "Cluster  1\n",
            "['microondas e geraleira', 'roupeiro, criado-mudo e cama', 'criado-mudo e cama', 'roupeiro e criado-mudo', 'cama e roupeiro', 'mochila e roupeiro']\n",
            "\n",
            "Cluster  6\n",
            "['ps1, ps2, ps3, ps4 e ps5', 'ps1, ps2, n64, ps4 e ps5', 'ps5, ps4, ps3, ps2 e ps1', 'ps6, ps7, ps8, ps9 e ps10', 'ps10, ps2, ps3, ps4 e ps5']\n",
            "\n",
            "Cluster  5\n",
            "['n64, snes, ps3, ps4 e ps5', 'ps1, n64, snes, switch', 'mega-drive, nes, snes', 'mega drive, n64, snes', 'megadrive, nes, n64', 'mega-drive, snes, nes', 'mega drive, nes, n64']\n",
            "\n",
            "Cluster  7\n",
            "['tom, planck, ozzy, mel, nina, pingado e gisele', 'tom, planck, ozzy, mel, nina, pingado gisele', 'paulo, tom, planck, ozzy, mel, nina, pingado e gisele', 'paulo, eli, tom, planck, ozzy, mel, nina, pingado e gisele', 'jan, paulo, eli, tom, planck, ozzy, mel, nina, pingado e gisele']\n",
            "\n"
          ],
          "name": "stdout"
        }
      ]
    },
    {
      "cell_type": "code",
      "metadata": {
        "id": "W3XzmvZF7mbH"
      },
      "source": [
        ""
      ],
      "execution_count": null,
      "outputs": []
    }
  ]
}