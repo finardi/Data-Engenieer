{
 "cells": [
  {
   "cell_type": "markdown",
   "metadata": {
    "editable": true
   },
   "source": [
    "# Part I. ETL Pipeline for Pre-Processing the Files"
   ]
  },
  {
   "cell_type": "markdown",
   "metadata": {
    "editable": true
   },
   "source": [
    "## PLEASE RUN THE FOLLOWING CODE FOR PRE-PROCESSING THE FILES"
   ]
  },
  {
   "cell_type": "markdown",
   "metadata": {
    "editable": true
   },
   "source": [
    "#### Import Python packages "
   ]
  },
  {
   "cell_type": "code",
   "execution_count": 22,
   "metadata": {
    "editable": true
   },
   "outputs": [],
   "source": [
    "# Import Python packages \n",
    "import pandas as pd\n",
    "import cassandra\n",
    "import re\n",
    "import os\n",
    "import glob\n",
    "import numpy as np\n",
    "import json\n",
    "import csv"
   ]
  },
  {
   "cell_type": "markdown",
   "metadata": {
    "editable": true
   },
   "source": [
    "#### Creating list of filepaths to process original event csv data files"
   ]
  },
  {
   "cell_type": "code",
   "execution_count": 23,
   "metadata": {
    "editable": true
   },
   "outputs": [
    {
     "name": "stdout",
     "output_type": "stream",
     "text": [
      "/home/workspace\n",
      "['/home/workspace/event_data/2018-11-27-events.csv', '/home/workspace/event_data/2018-11-04-events.csv', '/home/workspace/event_data/2018-11-07-events.csv', '/home/workspace/event_data/2018-11-09-events.csv', '/home/workspace/event_data/2018-11-19-events.csv', '/home/workspace/event_data/2018-11-05-events.csv', '/home/workspace/event_data/2018-11-22-events.csv', '/home/workspace/event_data/2018-11-16-events.csv', '/home/workspace/event_data/2018-11-26-events.csv', '/home/workspace/event_data/2018-11-24-events.csv', '/home/workspace/event_data/2018-11-29-events.csv', '/home/workspace/event_data/2018-11-15-events.csv', '/home/workspace/event_data/2018-11-20-events.csv', '/home/workspace/event_data/2018-11-06-events.csv', '/home/workspace/event_data/2018-11-18-events.csv', '/home/workspace/event_data/2018-11-21-events.csv', '/home/workspace/event_data/2018-11-10-events.csv', '/home/workspace/event_data/2018-11-23-events.csv', '/home/workspace/event_data/2018-11-02-events.csv', '/home/workspace/event_data/2018-11-28-events.csv', '/home/workspace/event_data/2018-11-03-events.csv', '/home/workspace/event_data/2018-11-13-events.csv', '/home/workspace/event_data/2018-11-30-events.csv', '/home/workspace/event_data/2018-11-12-events.csv', '/home/workspace/event_data/2018-11-01-events.csv', '/home/workspace/event_data/2018-11-14-events.csv', '/home/workspace/event_data/2018-11-25-events.csv', '/home/workspace/event_data/2018-11-08-events.csv', '/home/workspace/event_data/2018-11-17-events.csv', '/home/workspace/event_data/2018-11-11-events.csv']\n"
     ]
    }
   ],
   "source": [
    "# checking your current working directory\n",
    "print(os.getcwd())\n",
    "\n",
    "# Get your current folder and subfolder event data\n",
    "filepath = os.getcwd() + '/event_data'\n",
    "\n",
    "# Create a for loop to create a list of files and collect each filepath\n",
    "for root, dirs, files in os.walk(filepath):\n",
    "    \n",
    "# join the file path and roots with the subdirectories using glob\n",
    "    file_path_list = glob.glob(os.path.join(root,'*'))\n",
    "    print(file_path_list)"
   ]
  },
  {
   "cell_type": "markdown",
   "metadata": {
    "editable": true
   },
   "source": [
    "#### Processing the files to create the data file csv that will be used for Apache Casssandra tables"
   ]
  },
  {
   "cell_type": "code",
   "execution_count": 24,
   "metadata": {
    "editable": true
   },
   "outputs": [
    {
     "name": "stdout",
     "output_type": "stream",
     "text": [
      "8056\n",
      "\n",
      " ['Barry Tuckwell/Academy of St Martin-in-the-Fields/Sir Neville Marriner', 'Logged In', 'Mohammad', 'M', '0', 'Rodriguez', '277.15873', 'paid', 'Sacramento--Roseville--Arden-Arcade, CA', 'PUT', 'NextSong', '1.54051E+12', '961', 'Horn Concerto No. 4 in E flat K495: II. Romance (Andante cantabile)', '200', '1.54328E+12', '88'] \n",
      " ['Jimi Hendrix', 'Logged In', 'Mohammad', 'M', '1', 'Rodriguez', '239.82975', 'paid', 'Sacramento--Roseville--Arden-Arcade, CA', 'PUT', 'NextSong', '1.54051E+12', '961', 'Woodstock Inprovisation', '200', '1.54328E+12', '88']\n"
     ]
    }
   ],
   "source": [
    "# initiating an empty list of rows that will be generated from each file\n",
    "full_data_rows_list = [] \n",
    "    \n",
    "# for every filepath in the file path list \n",
    "for f in file_path_list:\n",
    "\n",
    "# reading csv file \n",
    "    with open(f, 'r', encoding = 'utf8', newline='') as csvfile: \n",
    "        # creating a csv reader object \n",
    "        csvreader = csv.reader(csvfile) \n",
    "        next(csvreader)\n",
    "        \n",
    " # extracting each data row one by one and append it        \n",
    "        for line in csvreader:\n",
    "            #print(line)\n",
    "            full_data_rows_list.append(line) \n",
    "            \n",
    "# uncomment the code below if you would like to get total number of rows \n",
    "print(len(full_data_rows_list))\n",
    "# uncomment the code below if you would like to check the first 2 examples\n",
    "print('\\n',full_data_rows_list[0],'\\n', full_data_rows_list[1])\n",
    "\n",
    "# creating a smaller event data csv file called event_datafile_full csv that will be used to insert data into the \\\n",
    "# Apache Cassandra tables\n",
    "csv.register_dialect('myDialect', quoting=csv.QUOTE_ALL, skipinitialspace=True)\n",
    "\n",
    "with open('event_datafile_new.csv', 'w', encoding = 'utf8', newline='') as f:\n",
    "    writer = csv.writer(f, dialect='myDialect')\n",
    "    writer.writerow(['artist','firstName','gender','itemInSession','lastName','length',\\\n",
    "                'level','location','sessionId','song','userId'])\n",
    "    for row in full_data_rows_list:\n",
    "        if (row[0] == ''):\n",
    "            continue\n",
    "        writer.writerow((row[0], row[2], row[3], row[4], row[5], row[6], row[7], row[8], row[12], row[13], row[16]))"
   ]
  },
  {
   "cell_type": "code",
   "execution_count": 25,
   "metadata": {
    "editable": true
   },
   "outputs": [
    {
     "name": "stdout",
     "output_type": "stream",
     "text": [
      "6821\n"
     ]
    }
   ],
   "source": [
    "# check the number of rows in your csv file\n",
    "with open('event_datafile_new.csv', 'r', encoding = 'utf8') as f:\n",
    "    print(sum(1 for line in f))"
   ]
  },
  {
   "cell_type": "markdown",
   "metadata": {
    "editable": true
   },
   "source": [
    "# Part II. Complete the Apache Cassandra coding portion of your project. \n",
    "\n",
    "## Now you are ready to work with the CSV file titled <font color=red>event_datafile_new.csv</font>, located within the Workspace directory.  The event_datafile_new.csv contains the following columns: \n",
    "- artist \n",
    "- firstName of user\n",
    "- gender of user\n",
    "- item number in session\n",
    "- last name of user\n",
    "- length of the song\n",
    "- level (paid or free song)\n",
    "- location of the user\n",
    "- sessionId\n",
    "- song title\n",
    "- userId\n",
    "\n",
    "The image below is a screenshot of what the denormalized data should appear like in the <font color=red>**event_datafile_new.csv**</font> after the code above is run:<br>\n",
    "\n",
    "<img src=\"images/image_event_datafile_new.jpg\">"
   ]
  },
  {
   "cell_type": "markdown",
   "metadata": {
    "editable": true
   },
   "source": [
    "## Begin writing your Apache Cassandra code in the cells below"
   ]
  },
  {
   "cell_type": "markdown",
   "metadata": {
    "editable": true
   },
   "source": [
    "### Creating a Cluster and Keyspace"
   ]
  },
  {
   "cell_type": "code",
   "execution_count": 26,
   "metadata": {
    "editable": true
   },
   "outputs": [],
   "source": [
    "#==================\n",
    "# Create cluster\n",
    "#==================\n",
    "\n",
    "from cassandra.cluster import Cluster\n",
    "cluster = Cluster()\n",
    "\n",
    "# To establish connection and begin executing queries, need a session\n",
    "session = cluster.connect()\n",
    "\n",
    "\n",
    "#==================\n",
    "# Create Keyspace\n",
    "#==================\n",
    "\n",
    "session.execute(\"\"\"CREATE KEYSPACE IF NOT EXISTS p2_udacity \n",
    "                   WITH REPLICATION = {'class': 'SimpleStrategy', 'replication_factor': 1}\"\"\")\n",
    "\n",
    "\n",
    "#==================\n",
    "# Set Keyspace\n",
    "#==================\n",
    "\n",
    "session.set_keyspace('p2_udacity')"
   ]
  },
  {
   "cell_type": "markdown",
   "metadata": {
    "editable": true
   },
   "source": [
    "# Create queries to ask the following three questions of the data\n",
    "\n",
    "> 1. Give me the artist, song title and song's length in the music app history that was heard during  sessionId = 338, and itemInSession  = 4\n",
    "\n",
    "\n",
    "> 2. Give me only the following: name of artist, song (sorted by itemInSession) and user (first and last name) for userid = 10, sessionid = 182\n",
    "    \n",
    "\n",
    "> 3. Give me every user name (first and last) in my music app history who listened to the song 'All Hands Against His Own'\n",
    "\n",
    "\n"
   ]
  },
  {
   "cell_type": "code",
   "execution_count": 27,
   "metadata": {
    "editable": true
   },
   "outputs": [],
   "source": [
    "# CSV file will be used in 3 queries\n",
    "file = 'event_datafile_new.csv'"
   ]
  },
  {
   "cell_type": "markdown",
   "metadata": {
    "editable": true
   },
   "source": [
    "## Solution Query 1"
   ]
  },
  {
   "cell_type": "code",
   "execution_count": 28,
   "metadata": {
    "editable": true
   },
   "outputs": [
    {
     "name": "stdout",
     "output_type": "stream",
     "text": [
      "artist: Faithless, song: Music Matters (Mark Knight Dub) length: 495.30731\n"
     ]
    }
   ],
   "source": [
    "#====================================================\n",
    "# Create table\n",
    "# For table song_features, the itemInSession was \n",
    "# used as a partition key because the queries will \n",
    "# filter by this column. The sessionId were used as \n",
    "# clustering column to help make up a unique key.\n",
    "#====================================================\n",
    "\n",
    "# in case rerun this cell, drop the current table\n",
    "session.execute(\"DROP TABLE IF EXISTS song_features\")\n",
    "\n",
    "# create table for Query 1\n",
    "song_features = \"\"\"CREATE TABLE IF NOT EXISTS song_features (itemInSession int, \n",
    "                                sessionId int, artist text, song text,\n",
    "                                length float, PRIMARY KEY(itemInSession, sessionId) )\"\"\"\n",
    "\n",
    "\n",
    "# execute the create table\n",
    "session.execute(song_features)\n",
    "\n",
    "#==================\n",
    "# Insert the data\n",
    "#==================\n",
    "\n",
    "# insert data for song_features\n",
    "insert_data_song_features = \"\"\"INSERT INTO song_features (\n",
    "                         itemInSession, sessionId, \n",
    "                         artist, song, length) VALUES (%s, %s, %s, %s, %s)\"\"\"\n",
    "\n",
    "\n",
    "with open(file, encoding = 'utf8') as f:\n",
    "    csvreader = csv.reader(f)\n",
    "    next(csvreader) # skip header\n",
    "    for line in csvreader:\n",
    "        # assing csv columns in each variable\n",
    "        itemInSession, sessionId  = int(line[3]), int(line[8])\n",
    "        artist, song, length = str(line[0]), str(line[9]), float(line[5])\n",
    "        \n",
    "        # execute the insertion\n",
    "        session.execute(insert_data_song_features, (itemInSession, sessionId, artist, song, length))\n",
    "        \n",
    "#==================\n",
    "# Validate the data\n",
    "#==================\n",
    "\n",
    "\n",
    "\n",
    "query_1 = \"\"\"SELECT artist, song, length \n",
    "                    FROM song_features \n",
    "                    WHERE itemInSession = %s AND sessionId = %s\"\"\"\n",
    "\n",
    "rows = session.execute(query_1, (4, 338))\n",
    "for row in rows:\n",
    "    print(f'artist: {row.artist}, song: {row.song} length: {row.length:.8}')        "
   ]
  },
  {
   "cell_type": "markdown",
   "metadata": {
    "editable": true
   },
   "source": [
    "## Solution Query 2"
   ]
  },
  {
   "cell_type": "code",
   "execution_count": 29,
   "metadata": {
    "editable": true
   },
   "outputs": [
    {
     "name": "stdout",
     "output_type": "stream",
     "text": [
      "artist: Down To The Bone, song: Keep On Keepin' On, user first name: Sylvie, user last name: Cruz\n",
      "artist: Three Drives, song: Greece 2000, user first name: Sylvie, user last name: Cruz\n",
      "artist: Sebastien Tellier, song: Kilometer, user first name: Sylvie, user last name: Cruz\n",
      "artist: Lonnie Gordon, song: Catch You Baby (Steve Pitron & Max Sanna Radio Edit), user first name: Sylvie, user last name: Cruz\n"
     ]
    }
   ],
   "source": [
    "#====================================================\n",
    "# Create table\n",
    "# For table artist_song_by_user, the userId and \n",
    "# sessionId was used as a composite partition key \n",
    "# because the queries will filter by these columns. \n",
    "# The itemInSession were used as clustering column \n",
    "# to help make up a unique key.\n",
    "#====================================================\n",
    "\n",
    "# in case rerun this cell, drop the current table \n",
    "session.execute(\"DROP TABLE IF EXISTS artist_song_by_user\")\n",
    "\n",
    "# create table for Query 1\n",
    "artist_song_by_user = \"\"\"CREATE TABLE IF NOT EXISTS artist_song_by_user (userId int, sessionId int, itemInSession int, \n",
    "                                         artist text, song text, firstName text, \n",
    "                                         lastName text, PRIMARY KEY ((userId, sessionId), itemInSession))\"\"\"\n",
    "# execute the create table\n",
    "session.execute(artist_song_by_user)\n",
    "\n",
    "#================== \n",
    "# Insert the data\n",
    "#==================\n",
    "\n",
    "insert_data_artist_song_by_user = \"\"\"INSERT INTO artist_song_by_user (\n",
    "                         userId, sessionId, itemInSession, \n",
    "                         artist, song, firstName, lastName) \n",
    "                         VALUES (%s, %s, %s, %s, %s, %s, %s)\"\"\"\n",
    "\n",
    "\n",
    "with open(file, encoding = 'utf8') as f:\n",
    "    csvreader = csv.reader(f)\n",
    "    next(csvreader) # skip header\n",
    "    for line in csvreader:\n",
    "        # assing csv columns in each variable\n",
    "        userId, sessionId, itemInSession  = int(line[10]), int(line[8]), int(line[3])\n",
    "        artist, song, firstName, lastName = str(line[0]), str(line[9]), str(line[1]), str(line[4])\n",
    "        \n",
    "        # building the insert\n",
    "        # execute the insertion\n",
    "        session.execute(insert_data_artist_song_by_user, (userId, sessionId, itemInSession, artist, song, firstName, lastName))\n",
    "        \n",
    "#==================\n",
    "# Validate the data\n",
    "#==================\n",
    "\n",
    "# Query 2 in CQL\n",
    "query_2 = \"\"\"SELECT artist, song, firstName, lastName \n",
    "                    FROM artist_song_by_user\n",
    "                    WHERE userId = %s AND sessionId = %s\"\"\"\n",
    "\n",
    "rows = session.execute(query_2, (10, 182))\n",
    "for row in rows:\n",
    "    print(f'artist: {row.artist}, song: {row.song}, user first name: {row.firstname}, user last name: {row.lastname}')        "
   ]
  },
  {
   "cell_type": "markdown",
   "metadata": {
    "editable": true
   },
   "source": [
    "## Solution Query 3"
   ]
  },
  {
   "cell_type": "code",
   "execution_count": 20,
   "metadata": {
    "editable": true
   },
   "outputs": [
    {
     "name": "stdout",
     "output_type": "stream",
     "text": [
      "user first name: Jacqueline,  user last name: Lynch\n",
      "user first name:      Tegan,  user last name: Levine\n",
      "user first name:       Sara,  user last name: Johnson\n"
     ]
    }
   ],
   "source": [
    "#====================================================\n",
    "# Create table\n",
    "# For table user_name, the song was used as a \n",
    "# partition key because the queries will filter by \n",
    "# this column. The userId were used as clustering \n",
    "# column to help make up a unique key.\n",
    "#====================================================\n",
    "\n",
    "# in case rerun this cell, drop the current table \n",
    "session.execute(\"DROP TABLE IF EXISTS table_query_3\")\n",
    "\n",
    "# create table for Query 1\n",
    "user_name = \"\"\"CREATE TABLE IF NOT EXISTS user_name (song text, userId int, \n",
    "                                        firstName text, lastName text, \n",
    "                                        PRIMARY KEY (song, userId))\"\"\"\n",
    "# execute the create table\n",
    "session.execute(user_name)\n",
    "\n",
    "\n",
    "#==================\n",
    "# Insert the data\n",
    "#==================\n",
    "\n",
    "insert_data_user_name = \"\"\"INSERT INTO user_name (song, userId, \n",
    "                                     firstName, lastName) VALUES (%s, %s, %s, %s)\"\"\"\n",
    "\n",
    "with open(file, encoding = 'utf8') as f:\n",
    "    csvreader = csv.reader(f)\n",
    "    next(csvreader) # skip header\n",
    "    for line in csvreader:\n",
    "        # assing csv columns in each variable\n",
    "        song, userId, = str(line[9]), int(line[10])\n",
    "        firstName, lastName = str(line[1]), str(line[4])\n",
    "        \n",
    "        session.execute(insert_data_user_name, (song, userId, firstName, lastName))\n",
    "        \n",
    "#==================\n",
    "# Validate the data\n",
    "#==================\n",
    "\n",
    "# Query 3 in CQL\n",
    "query_3 = \"\"\"SELECT firstName, lastName \n",
    "                    FROM user_name \n",
    "                    WHERE song = %s\"\"\"\n",
    "# ive me every user name (first and last) in my music app history who listened to the song 'All Hands Against His Own'\n",
    "rows = session.execute(query_3, ('All Hands Against His Own', ))\n",
    "for row in rows:\n",
    "    print(f'user first name: {row.firstname:>10},  user last name: {row.lastname}')        "
   ]
  },
  {
   "cell_type": "markdown",
   "metadata": {
    "editable": true
   },
   "source": [
    "## Drop the created tables and close the session and cluster"
   ]
  },
  {
   "cell_type": "code",
   "execution_count": 21,
   "metadata": {
    "editable": true
   },
   "outputs": [],
   "source": [
    "session.execute(\"DROP TABLE IF EXISTS song_features\")\n",
    "session.execute(\"DROP TABLE IF EXISTS artist_song_by_user\")\n",
    "session.execute(\"DROP TABLE IF EXISTS user_name\")                                                \n",
    "\n",
    "session.shutdown()\n",
    "cluster.shutdown()"
   ]
  },
  {
   "cell_type": "markdown",
   "metadata": {
    "editable": true
   },
   "source": [
    "## The End"
   ]
  }
 ],
 "metadata": {
  "kernelspec": {
   "display_name": "Python 3",
   "language": "python",
   "name": "python3"
  },
  "language_info": {
   "codemirror_mode": {
    "name": "ipython",
    "version": 3
   },
   "file_extension": ".py",
   "mimetype": "text/x-python",
   "name": "python",
   "nbconvert_exporter": "python",
   "pygments_lexer": "ipython3",
   "version": "3.6.3"
  }
 },
 "nbformat": 4,
 "nbformat_minor": 4
}
