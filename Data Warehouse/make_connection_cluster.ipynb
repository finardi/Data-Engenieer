{
 "cells": [
  {
   "cell_type": "code",
   "execution_count": null,
   "metadata": {
    "editable": true
   },
   "outputs": [],
   "source": [
    "import boto3\n",
    "import json\n",
    "import pprint\n",
    "import pandas as pd"
   ]
  },
  {
   "cell_type": "code",
   "execution_count": null,
   "metadata": {
    "editable": true
   },
   "outputs": [],
   "source": [
    "import configparser\n",
    "config = configparser.ConfigParser()\n",
    "config.read_file(open('config.cfg'))\n",
    "\n",
    "KEY                = config.get(\"AWS_CONNECT\",\"KEY\")\n",
    "SECRET             = config.get(\"AWS_CONNECT\",\"SECRET\")\n",
    "                                \n",
    "CLUSTER_TYPE       = config.get(\"SET_CONFIG\",\"CLUSTER_TYPE\")\n",
    "NUM_NODES          = config.get(\"SET_CONFIG\",\"NUM_NODES\")\n",
    "NODE_TYPE          = config.get(\"SET_CONFIG\",\"NODE_TYPE\")\n",
    "CLUSTER_IDENTIFIER = config.get(\"SET_CONFIG\",\"CLUSTER_IDENTIFIER\")\n",
    "DB                 = config.get(\"SET_CONFIG\",\"DB\")\n",
    "USER               = config.get(\"SET_CONFIG\",\"USER\")\n",
    "PASSWORD           = config.get(\"SET_CONFIG\",\"PASSWORD\")\n",
    "PORT               = config.get(\"SET_CONFIG\",\"PORT\")\n",
    "IAM_ROLE_NAME      = config.get(\"SET_CONFIG\",\"IAM_ROLE_NAME\")\n",
    "                                \n",
    "S3_NAME            = config.get(\"S3_CONFIG\",\"S3_NAME\")\n",
    "S3_LOG_DATA_NAME   = config.get(\"S3_CONFIG\",\"S3_LOG_DATA_NAME\")\n",
    "S3_SONG_DATA_NAME  = config.get(\"S3_CONFIG\",\"S3_SONG_DATA_NAME\")\n",
    "\n",
    "pd.DataFrame(\n",
    "    {\n",
    "        \"Param\":[\n",
    "            \"CLUSTER_TYPE\", \n",
    "            \"NUM_NODES\", \n",
    "            \"NODE_TYPE\", \n",
    "            \"CLUSTER_IDENTIFIER\", \n",
    "            \"DB\", \n",
    "            \"DB_USER\", \n",
    "            \"DB_PASSWORD\", \n",
    "            \"PORT\", \n",
    "            \"IAM_ROLE_NAME\",\n",
    "            'S3_NAME',\n",
    "            'S3_LOG_DATA_NAME',\n",
    "            'S3_SONG_DATA_NAME',\n",
    "            ],\n",
    "         \"Value\":[\n",
    "            CLUSTER_TYPE, \n",
    "            NUM_NODES, \n",
    "            NODE_TYPE, \n",
    "            CLUSTER_IDENTIFIER, \n",
    "            DB, \n",
    "            USER, \n",
    "            PASSWORD, \n",
    "            PORT, \n",
    "            IAM_ROLE_NAME,\n",
    "            S3_NAME,\n",
    "            S3_LOG_DATA_NAME,\n",
    "            S3_SONG_DATA_NAME,\n",
    "            ]\n",
    "    }\n",
    ")"
   ]
  },
  {
   "cell_type": "markdown",
   "metadata": {
    "editable": true
   },
   "source": [
    "## Create clients for EC2, S3, IAM, and Redshift"
   ]
  },
  {
   "cell_type": "code",
   "execution_count": null,
   "metadata": {
    "editable": true
   },
   "outputs": [],
   "source": [
    "ec2 = boto3.resource('ec2',\n",
    "                       region_name=\"us-west-2\",\n",
    "                       aws_access_key_id=KEY,\n",
    "                       aws_secret_access_key=SECRET\n",
    "                    )\n",
    "\n",
    "s3 = boto3.resource('s3',\n",
    "                       region_name=\"us-west-2\",\n",
    "                       aws_access_key_id=KEY,\n",
    "                       aws_secret_access_key=SECRET\n",
    "                   )\n",
    "\n",
    "iam = boto3.client('iam',aws_access_key_id=KEY,\n",
    "                     aws_secret_access_key=SECRET,\n",
    "                     region_name='us-west-2'\n",
    "                  )\n",
    "\n",
    "redshift = boto3.client('redshift',\n",
    "                       region_name=\"us-west-2\",\n",
    "                       aws_access_key_id=KEY,\n",
    "                       aws_secret_access_key=SECRET\n",
    "                       )"
   ]
  },
  {
   "cell_type": "markdown",
   "metadata": {
    "editable": true
   },
   "source": [
    "## Check out some log-data and song-data samples in S3 bucket\n"
   ]
  },
  {
   "cell_type": "code",
   "execution_count": null,
   "metadata": {
    "editable": true
   },
   "outputs": [],
   "source": [
    "bucket=s3.Bucket(S3_NAME)\n",
    "log_data_files = [filename.key for filename in bucket.objects.filter(Prefix=S3_LOG_DATA_NAME)]\n",
    "song_data_files = [filename.key for filename in bucket.objects.filter(Prefix=S3_SONG_DATA_NAME+'/A/A')]\n",
    "\n",
    "# print the last five files\n",
    "print(f'Print the last 5 json /log-data* files in S3 bucket: {S3_NAME}')\n",
    "pprint.pprint(log_data_files[-5:])\n",
    "print(f'\\nPrint the last 5 json /song-data* files in S3 bucket: {S3_NAME}')\n",
    "pprint.pprint(song_data_files[-5:])"
   ]
  },
  {
   "cell_type": "markdown",
   "metadata": {
    "editable": true
   },
   "source": [
    "## Creating a new IAM-Role"
   ]
  },
  {
   "cell_type": "code",
   "execution_count": null,
   "metadata": {
    "editable": true
   },
   "outputs": [],
   "source": [
    "from botocore.exceptions import ClientError\n",
    "\n",
    "# Create the role, \n",
    "try:\n",
    "    print(\"Creating a new IAM Role\") \n",
    "    dwhRole = iam.create_role(\n",
    "        Path='/',\n",
    "        RoleName=IAM_ROLE_NAME,\n",
    "        Description = \"Allows Redshift clusters to call AWS services on your behalf.\",\n",
    "        AssumeRolePolicyDocument=json.dumps(\n",
    "            {'Statement': [{'Action': 'sts:AssumeRole',\n",
    "             'Effect': 'Allow',\n",
    "             'Principal': {'Service': 'redshift.amazonaws.com'}}],\n",
    "             'Version': '2012-10-17'})\n",
    "    )    \n",
    "except Exception as e:\n",
    "    print(e)\n",
    "    \n",
    "print(\"Attaching Policy\")\n",
    "iam.attach_role_policy(\n",
    "    RoleName=IAM_ROLE_NAME,\n",
    "    PolicyArn=\"arn:aws:iam::aws:policy/AmazonS3ReadOnlyAccess\"\n",
    "    )['ResponseMetadata']['HTTPStatusCode']\n",
    "\n",
    "print(\"Get the IAM role ARN\")\n",
    "roleArn = iam.get_role(RoleName=IAM_ROLE_NAME)['Role']['Arn']\n",
    "\n",
    "print(roleArn)"
   ]
  },
  {
   "cell_type": "markdown",
   "metadata": {
    "editable": true
   },
   "source": [
    "## Creating a new cluster"
   ]
  },
  {
   "cell_type": "code",
   "execution_count": null,
   "metadata": {
    "editable": true
   },
   "outputs": [],
   "source": [
    "try:\n",
    "    response = redshift.create_cluster(        \n",
    "        ClusterType=CLUSTER_TYPE,\n",
    "        NodeType=NODE_TYPE,\n",
    "        NumberOfNodes=int(NUM_NODES),\n",
    "\n",
    "        # Identifiers & Credentials\n",
    "        DBName=DB,\n",
    "        ClusterIdentifier=CLUSTER_IDENTIFIER,\n",
    "        MasterUsername=USER,\n",
    "        MasterUserPassword=PASSWORD,\n",
    "        \n",
    "        # Roles (for s3 access)\n",
    "        IamRoles=[roleArn]  \n",
    "    )\n",
    "except Exception as e:\n",
    "    print(e)"
   ]
  },
  {
   "cell_type": "markdown",
   "metadata": {
    "editable": true
   },
   "source": [
    "## Describing the cluster"
   ]
  },
  {
   "cell_type": "code",
   "execution_count": null,
   "metadata": {
    "editable": true
   },
   "outputs": [],
   "source": [
    "def prettyRedshiftProps(props):\n",
    "    pd.set_option('display.max_colwidth', -1)\n",
    "    keysToShow = [\n",
    "        \"ClusterIdentifier\", \n",
    "        \"NodeType\", \n",
    "        \"ClusterStatus\", \n",
    "        \"MasterUsername\", \n",
    "        \"DBName\", \n",
    "        \"Endpoint\", \n",
    "        \"NumberOfNodes\", \n",
    "        \"VpcId\",\n",
    "    ]\n",
    "    x = [(k, v) for k,v in props.items() if k in keysToShow]\n",
    "    return pd.DataFrame(data=x, columns=[\"Key\", \"Value\"])\n",
    "\n",
    "myClusterProps = redshift.describe_clusters(ClusterIdentifier=CLUSTER_IDENTIFIER)['Clusters'][0]\n",
    "prettyRedshiftProps(myClusterProps)"
   ]
  },
  {
   "cell_type": "code",
   "execution_count": null,
   "metadata": {
    "editable": true
   },
   "outputs": [],
   "source": [
    "ENDPOINT = myClusterProps['Endpoint']['Address']\n",
    "print(ENDPOINT)\n",
    "ROLE_ARN = myClusterProps['IamRoles'][0]['IamRoleArn']\n",
    "print(ROLE_ARN)"
   ]
  },
  {
   "cell_type": "markdown",
   "metadata": {
    "editable": true
   },
   "source": [
    "## Open an incoming TCP port to access the cluster ednpoint"
   ]
  },
  {
   "cell_type": "code",
   "execution_count": null,
   "metadata": {
    "editable": true
   },
   "outputs": [],
   "source": [
    "try:\n",
    "    vpc = ec2.Vpc(id=myClusterProps['VpcId'])\n",
    "    defaultSg = list(vpc.security_groups.all())[0]\n",
    "    print(defaultSg)\n",
    "    defaultSg.authorize_ingress(\n",
    "        GroupName=defaultSg.group_name,\n",
    "        CidrIp='0.0.0.0/0',\n",
    "        IpProtocol='TCP',\n",
    "        FromPort=int(PORT),\n",
    "        ToPort=int(PORT)\n",
    "    )\n",
    "except Exception as e:\n",
    "    print(e)"
   ]
  },
  {
   "cell_type": "code",
   "execution_count": null,
   "metadata": {
    "editable": true
   },
   "outputs": [],
   "source": [
    "%reload_ext sql"
   ]
  },
  {
   "cell_type": "code",
   "execution_count": null,
   "metadata": {
    "editable": true
   },
   "outputs": [],
   "source": [
    "conn_string=f\"postgresql://{USER}:{PASSWORD}@{ENDPOINT}:{PORT}/{DB}\"\n",
    "print(conn_string)\n",
    "%sql $conn_string"
   ]
  },
  {
   "cell_type": "markdown",
   "metadata": {
    "editable": true
   },
   "source": [
    "## Stop here and run \n",
    "> `python etl.py`"
   ]
  },
  {
   "cell_type": "markdown",
   "metadata": {
    "editable": true
   },
   "source": [
    "# Cheking Results"
   ]
  },
  {
   "cell_type": "code",
   "execution_count": null,
   "metadata": {
    "editable": true
   },
   "outputs": [],
   "source": [
    "%sql SELECT * FROM dim_users LIMIT 5;"
   ]
  },
  {
   "cell_type": "code",
   "execution_count": null,
   "metadata": {
    "editable": true
   },
   "outputs": [],
   "source": [
    "%sql SELECT * FROM dim_songs LIMIT 5;"
   ]
  },
  {
   "cell_type": "code",
   "execution_count": null,
   "metadata": {
    "editable": true
   },
   "outputs": [],
   "source": [
    "%sql SELECT * FROM dim_users LIMIT 5;"
   ]
  },
  {
   "cell_type": "code",
   "execution_count": null,
   "metadata": {
    "editable": true
   },
   "outputs": [],
   "source": [
    "%sql SELECT * FROM dim_artists LIMIT 5;"
   ]
  },
  {
   "cell_type": "code",
   "execution_count": null,
   "metadata": {
    "editable": true
   },
   "outputs": [],
   "source": [
    "%sql SELECT * FROM dim_time LIMIT 5;"
   ]
  },
  {
   "cell_type": "code",
   "execution_count": null,
   "metadata": {
    "editable": true
   },
   "outputs": [],
   "source": [
    "%sql SELECT * FROM fact_songplays LIMIT 5;"
   ]
  },
  {
   "cell_type": "markdown",
   "metadata": {
    "editable": true
   },
   "source": [
    "## Delete Cluster and IAM role "
   ]
  },
  {
   "cell_type": "code",
   "execution_count": null,
   "metadata": {
    "editable": true
   },
   "outputs": [],
   "source": [
    "redshift.delete_cluster( ClusterIdentifier=CLUSTER_IDENTIFIER,  SkipFinalClusterSnapshot=True)"
   ]
  },
  {
   "cell_type": "code",
   "execution_count": null,
   "metadata": {
    "editable": true
   },
   "outputs": [],
   "source": [
    "myClusterProps = redshift.describe_clusters(ClusterIdentifier=CLUSTER_IDENTIFIER)['Clusters'][0]\n",
    "prettyRedshiftProps(myClusterProps)"
   ]
  },
  {
   "cell_type": "code",
   "execution_count": null,
   "metadata": {
    "editable": true
   },
   "outputs": [],
   "source": [
    "iam.detach_role_policy(RoleName=IAM_ROLE_NAME, PolicyArn=\"arn:aws:iam::aws:policy/AmazonS3ReadOnlyAccess\")\n",
    "iam.delete_role(RoleName=IAM_ROLE_NAME)"
   ]
  }
 ],
 "metadata": {
  "kernelspec": {
   "display_name": "Python 3",
   "language": "python",
   "name": "python3"
  },
  "language_info": {
   "codemirror_mode": {
    "name": "ipython",
    "version": 3
   },
   "file_extension": ".py",
   "mimetype": "text/x-python",
   "name": "python",
   "nbconvert_exporter": "python",
   "pygments_lexer": "ipython3",
   "version": "3.6.3"
  }
 },
 "nbformat": 4,
 "nbformat_minor": 4
}
